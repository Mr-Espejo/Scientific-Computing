{
  "nbformat": 4,
  "nbformat_minor": 0,
  "metadata": {
    "colab": {
      "name": "02 R2 en Python (2).ipynb",
      "provenance": [],
      "include_colab_link": true
    },
    "kernelspec": {
      "name": "python3",
      "display_name": "Python 3"
    },
    "language_info": {
      "name": "python"
    }
  },
  "cells": [
    {
      "cell_type": "markdown",
      "metadata": {
        "id": "view-in-github",
        "colab_type": "text"
      },
      "source": [
        "<a href=\"https://colab.research.google.com/github/Mr-Espejo/Scientific-Computing/blob/main/02_R2_en_Python_(2).ipynb\" target=\"_parent\"><img src=\"https://colab.research.google.com/assets/colab-badge.svg\" alt=\"Open In Colab\"/></a>"
      ]
    },
    {
      "cell_type": "code",
      "metadata": {
        "id": "xxDg3Geo2tEJ"
      },
      "source": [
        "class vector2:\n",
        "  def __init__(self, x, y):\n",
        "    self.x1 = x\n",
        "    self.x2 = y\n",
        "  \n",
        "  def __add__(self, other):\n",
        "    if isinstance(other, vector2):\n",
        "      return vector2(self.x1+other.x1, self.x2+other.x2)\n",
        "    else:\n",
        "      return 'Error: tipos incompatibles'\n",
        "  \n",
        "  def __mul__(self, escalar):\n",
        "    if isinstance(escalar, float):\n",
        "      return vector2(escalar*self.x1, escalar*self.x2)\n",
        "    else:\n",
        "      return 'Error: tipos incompatibles'"
      ],
      "execution_count": null,
      "outputs": []
    },
    {
      "cell_type": "code",
      "metadata": {
        "id": "OF2bm0cQ5TFP"
      },
      "source": [
        "v1 = vector2(2,4)\n",
        "v2 = vector2(2**(0.5), -1)"
      ],
      "execution_count": null,
      "outputs": []
    },
    {
      "cell_type": "code",
      "metadata": {
        "colab": {
          "base_uri": "https://localhost:8080/"
        },
        "id": "lsMmEuuv5psN",
        "outputId": "7ef54b6c-a24f-4815-ab17-b9ce75703952"
      },
      "source": [
        "print(v1.x1, v1.x2)"
      ],
      "execution_count": null,
      "outputs": [
        {
          "output_type": "stream",
          "name": "stdout",
          "text": [
            "2 4\n"
          ]
        }
      ]
    },
    {
      "cell_type": "code",
      "metadata": {
        "colab": {
          "base_uri": "https://localhost:8080/"
        },
        "id": "T_87n2iw5tYt",
        "outputId": "758437b3-f9f0-4f2d-e985-cf9428694abb"
      },
      "source": [
        "print(v2.x1, v2.x2)"
      ],
      "execution_count": null,
      "outputs": [
        {
          "output_type": "stream",
          "name": "stdout",
          "text": [
            "1.4142135623730951 -1\n"
          ]
        }
      ]
    },
    {
      "cell_type": "code",
      "metadata": {
        "id": "lan0o7a05vu5"
      },
      "source": [
        "v3 = v1 + v2"
      ],
      "execution_count": null,
      "outputs": []
    },
    {
      "cell_type": "code",
      "metadata": {
        "colab": {
          "base_uri": "https://localhost:8080/"
        },
        "id": "wiUqnYz950KJ",
        "outputId": "01973f73-6b51-4f56-fac4-97379fe58ce4"
      },
      "source": [
        "print(v3.x1, v3.x2)"
      ],
      "execution_count": null,
      "outputs": [
        {
          "output_type": "stream",
          "name": "stdout",
          "text": [
            "3.414213562373095 3\n"
          ]
        }
      ]
    },
    {
      "cell_type": "code",
      "metadata": {
        "id": "zItOLzvj5_IT"
      },
      "source": [
        "import numpy as np"
      ],
      "execution_count": null,
      "outputs": []
    },
    {
      "cell_type": "code",
      "metadata": {
        "id": "6RjhiQ9z52Jg"
      },
      "source": [
        "v4 = v1*np.e"
      ],
      "execution_count": null,
      "outputs": []
    },
    {
      "cell_type": "code",
      "metadata": {
        "colab": {
          "base_uri": "https://localhost:8080/"
        },
        "id": "gLs6BCRj6JZ9",
        "outputId": "c187d1b4-57ca-4003-ac4d-9bb78bac015f"
      },
      "source": [
        "print(v4.x1, v4.x2)"
      ],
      "execution_count": null,
      "outputs": [
        {
          "output_type": "stream",
          "name": "stdout",
          "text": [
            "5.43656365691809 10.87312731383618\n"
          ]
        }
      ]
    },
    {
      "cell_type": "code",
      "metadata": {
        "id": "UyrMo2IR6Rn_"
      },
      "source": [
        ""
      ],
      "execution_count": null,
      "outputs": []
    }
  ]
}