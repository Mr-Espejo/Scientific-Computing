{
  "nbformat": 4,
  "nbformat_minor": 0,
  "metadata": {
    "colab": {
      "name": "05 Buenas prácticas.ipynb",
      "provenance": [],
      "collapsed_sections": [],
      "include_colab_link": true
    },
    "kernelspec": {
      "name": "python3",
      "display_name": "Python 3"
    },
    "language_info": {
      "name": "python"
    }
  },
  "cells": [
    {
      "cell_type": "markdown",
      "metadata": {
        "id": "view-in-github",
        "colab_type": "text"
      },
      "source": [
        "<a href=\"https://colab.research.google.com/github/Mr-Espejo/Scientific-Computing/blob/main/05_Buenas_pra%CC%81cticas.ipynb\" target=\"_parent\"><img src=\"https://colab.research.google.com/assets/colab-badge.svg\" alt=\"Open In Colab\"/></a>"
      ]
    },
    {
      "cell_type": "markdown",
      "metadata": {
        "id": "H2-q8mrK0BC0"
      },
      "source": [
        "## Buenas prácticas\n",
        "\n",
        "1. Código legible.\n",
        "2. Documentación.\n",
        "3. Modularidad.\n",
        "   * Usar distintos archivos según una lógica común.\n",
        "   * Funciones. Las funciones hacen una única tarea.\n",
        "4. Los nombres de variables, funciones, etc. deben ser autoexplicativos en la medida de lo posible.\n",
        "5. Control de versiones."
      ]
    },
    {
      "cell_type": "code",
      "metadata": {
        "id": "kahO0TACzWZU"
      },
      "source": [
        "def funcion(a,b,c,d,e,f,g):\n",
        "  pass"
      ],
      "execution_count": null,
      "outputs": []
    },
    {
      "cell_type": "code",
      "metadata": {
        "id": "jtXMP7eC3v1F"
      },
      "source": [
        "def euler(f, a, b, x0, ti, tf):\n",
        "  pass"
      ],
      "execution_count": null,
      "outputs": []
    },
    {
      "cell_type": "code",
      "metadata": {
        "id": "yzneysoO35lm"
      },
      "source": [
        ""
      ],
      "execution_count": null,
      "outputs": []
    }
  ]
}